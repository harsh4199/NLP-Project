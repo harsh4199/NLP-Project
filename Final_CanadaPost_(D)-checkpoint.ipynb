{
 "cells": [
  {
   "cell_type": "markdown",
   "metadata": {},
   "source": [
    "import module"
   ]
  },
  {
   "cell_type": "code",
   "execution_count": 1,
   "metadata": {},
   "outputs": [],
   "source": [
    "import requests\n",
    "from bs4 import BeautifulSoup\n",
    "def getdata(url):\n",
    "    r = requests.get(url, headers=HEADERS)\n",
    "    return r.text"
   ]
  },
  {
   "cell_type": "code",
   "execution_count": 2,
   "metadata": {},
   "outputs": [],
   "source": [
    "HEADERS = ({'User-Agent':'Mozilla/5.0 (Windows NT 10.0; Win64; x64) \\AppleWebKit/537.36 (KHTML, like Gecko) \\Chrome/90.0.4430.212 Safari/537.36','Accept-Language': 'en-US, en;q=0.5'})"
   ]
  },
  {
   "cell_type": "markdown",
   "metadata": {},
   "source": [
    "user define function<br>\n",
    "Scrape the data"
   ]
  },
  {
   "cell_type": "code",
   "execution_count": 3,
   "metadata": {},
   "outputs": [],
   "source": [
    "def html_code(url):\n",
    "    # pass the url\n",
    "    # into getdata function\n",
    "    htmldata = getdata(url)\n",
    "    soup = BeautifulSoup(htmldata, 'html.parser')\n",
    "    # display html code\n",
    "    return (soup)"
   ]
  },
  {
   "cell_type": "code",
   "execution_count": null,
   "metadata": {},
   "outputs": [],
   "source": []
  },
  {
   "cell_type": "code",
   "execution_count": null,
   "metadata": {},
   "outputs": [],
   "source": [
    "soupAll=[]\n",
    "total = 240\n",
    "i=1\n",
    "\n",
    "while i<=total:\n",
    "    url = \"https://ca.trustpilot.com/review/www.canadapost.ca?page=%d\" %(i)\n",
    "    htmlCode = html_code(url)\n",
    "    soupAll.append(htmlCode)\n",
    "    i = i+1\n",
    "\n",
    "#url1= \"https://www.shopperapproved.com/reviews/canadapost.ca\"\n",
    "#url= \"https://www.amazon.ca/Bruno-Rivera-Oxfords-Shoes-Sneakers/product-reviews/B06XC2YQ4L/ref=cm_cr_dp_d_show_all_btm?ie=UTF8&reviewerType=all_reviews\""
   ]
  },
  {
   "cell_type": "code",
   "execution_count": null,
   "metadata": {},
   "outputs": [],
   "source": [
    "len(soupAll)"
   ]
  },
  {
   "cell_type": "code",
   "execution_count": null,
   "metadata": {},
   "outputs": [],
   "source": [
    "customer_name=[]\n",
    "customer_rev=[]\n",
    "for i in soupAll:\n",
    "    soup = i\n",
    "    \n",
    "    def cus_data(soup):\n",
    "        # find the Html tag\n",
    "        # with find()\n",
    "        # and convert into string\n",
    "        data_str = \"\"\n",
    "        cus_list = []\n",
    "\n",
    "        for item in soup.find_all(\"span\", class_=\"typography_heading-xxs__QKBS8 typography_appearance-default__AAY17\"):\n",
    "            data_str = data_str + item.get_text()\n",
    "            cus_list.append(data_str)\n",
    "            data_str = \"\"\n",
    "        return cus_list\n",
    "            \n",
    "        \n",
    "    def cus_rev(soup):\n",
    "        # find the Html tag\n",
    "        # with find()\n",
    "        # and convert into string\n",
    "        data_str1 = \"\"\n",
    "        cus_rev = []\n",
    "\n",
    "        for item in soup.find_all(\"div\", class_=\"styles_reviewContent__0Q2Tg\"):\n",
    "            data_str1 = data_str1 + item.get_text()\n",
    "            cus_rev.append(data_str1)\n",
    "            data_str1 = \"\"\n",
    "  \n",
    "        return cus_rev\n",
    "        \n",
    "    \n",
    "    cus_res = cus_data(soup)\n",
    "    customer_name = customer_name + cus_res\n",
    "\n",
    "    cus_rev1 = cus_rev(soup)\n",
    "    customer_rev = customer_rev + cus_rev1\n",
    "    \n",
    "print(customer_name)\n",
    "print(customer_rev)\n",
    "\n",
    "\n",
    "    \n",
    "    \n",
    "    \n",
    "    \n",
    "    "
   ]
  },
  {
   "cell_type": "code",
   "execution_count": null,
   "metadata": {},
   "outputs": [],
   "source": [
    "cus_rev1[0]"
   ]
  },
  {
   "cell_type": "code",
   "execution_count": null,
   "metadata": {},
   "outputs": [],
   "source": [
    "import pandas as pd"
   ]
  },
  {
   "cell_type": "code",
   "execution_count": null,
   "metadata": {},
   "outputs": [],
   "source": []
  },
  {
   "cell_type": "code",
   "execution_count": null,
   "metadata": {},
   "outputs": [],
   "source": [
    "\n",
    "size = len(customer_name)\n",
    "j=0;\n",
    "name=[]\n",
    "review=[]\n",
    "for i in customer_name:\n",
    "    name.append(customer_name[j])\n",
    "    review.append(customer_rev[j])\n",
    "    j = j+1\n",
    "    \n",
    "    "
   ]
  },
  {
   "cell_type": "code",
   "execution_count": null,
   "metadata": {},
   "outputs": [],
   "source": [
    "name"
   ]
  },
  {
   "cell_type": "code",
   "execution_count": null,
   "metadata": {},
   "outputs": [],
   "source": [
    "df = pd.DataFrame({'name':name, 'review':review})\n",
    "df"
   ]
  },
  {
   "cell_type": "markdown",
   "metadata": {},
   "source": [
    "Create DataFrame"
   ]
  },
  {
   "cell_type": "markdown",
   "metadata": {},
   "source": [
    "Save the output."
   ]
  },
  {
   "cell_type": "code",
   "execution_count": null,
   "metadata": {
    "scrolled": true
   },
   "outputs": [],
   "source": [
    "df.to_csv('data', sep='\\t', encoding='utf-8')"
   ]
  },
  {
   "cell_type": "code",
   "execution_count": null,
   "metadata": {},
   "outputs": [],
   "source": [
    "df.to_csv('MyData.csv')"
   ]
  },
  {
   "cell_type": "code",
   "execution_count": null,
   "metadata": {},
   "outputs": [],
   "source": []
  }
 ],
 "metadata": {
  "kernelspec": {
   "display_name": "Python 3 (ipykernel)",
   "language": "python",
   "name": "python3"
  },
  "language_info": {
   "codemirror_mode": {
    "name": "ipython",
    "version": 3
   },
   "file_extension": ".py",
   "mimetype": "text/x-python",
   "name": "python",
   "nbconvert_exporter": "python",
   "pygments_lexer": "ipython3",
   "version": "3.9.13"
  }
 },
 "nbformat": 4,
 "nbformat_minor": 2
}
